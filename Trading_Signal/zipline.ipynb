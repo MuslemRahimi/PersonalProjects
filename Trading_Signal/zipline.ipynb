{
 "cells": [
  {
   "cell_type": "code",
   "execution_count": 20,
   "metadata": {},
   "outputs": [
    {
     "name": "stdout",
     "output_type": "stream",
     "text": [
      "[2021-03-19 20:53:27.816345] INFO: zipline.data.bundles.core: Ingesting quandl.\n",
      "[2021-03-19 20:53:27.816497] INFO: zipline.data.bundles.quandl: Downloading WIKI metadata.\n",
      "\u001b[?25lDownloading WIKI Prices table from Quandl  [#####################---------------]   58%  00:00:49^C\n",
      "\u001b[?25h\n",
      "\n",
      "Aborted!\n"
     ]
    }
   ],
   "source": [
    "! QUANDL_API_KEY=drteJxzUxbyzsTay-87v  zipline ingest -b quandl"
   ]
  },
  {
   "cell_type": "code",
   "execution_count": 22,
   "metadata": {},
   "outputs": [
    {
     "name": "stdout",
     "output_type": "stream",
     "text": [
      "[2021-03-19 20:57:46.710223] INFO: zipline.data.bundles.core: Ingesting quantopian-quandl.\n",
      "\u001b[?25lDownloading Bundle: quantopian-quandl  [####################################]  100%          \u001b[?25h\n",
      "[2021-03-19 20:58:26.124478] INFO: zipline.data.bundles.quandl: Writing data to /home/muslem-rahimi/.zipline/data/quantopian-quandl/2021-03-19T20;57;46.383072.\n"
     ]
    }
   ],
   "source": [
    "!zipline ingest"
   ]
  },
  {
   "cell_type": "code",
   "execution_count": 25,
   "metadata": {},
   "outputs": [
    {
     "ename": "SyntaxError",
     "evalue": "invalid syntax (<ipython-input-25-d8e02d030747>, line 1)",
     "output_type": "error",
     "traceback": [
      "\u001b[0;36m  File \u001b[0;32m\"<ipython-input-25-d8e02d030747>\"\u001b[0;36m, line \u001b[0;32m1\u001b[0m\n\u001b[0;31m    zipline run -f /home/muslem-rahimi/test.py --start 2014-1-1 --end 2018-1-1 -o dma.pickle --no-benchmark\u001b[0m\n\u001b[0m              ^\u001b[0m\n\u001b[0;31mSyntaxError\u001b[0m\u001b[0;31m:\u001b[0m invalid syntax\n"
     ]
    }
   ],
   "source": [
    "zipline run -f /home/muslem-rahimi/test.py --start 2014-1-1 --end 2018-1-1 -o dma.pickle --no-benchmark"
   ]
  },
  {
   "cell_type": "code",
   "execution_count": null,
   "metadata": {},
   "outputs": [],
   "source": []
  }
 ],
 "metadata": {
  "kernelspec": {
   "display_name": "Python 3",
   "language": "python",
   "name": "python3"
  },
  "language_info": {
   "codemirror_mode": {
    "name": "ipython",
    "version": 3
   },
   "file_extension": ".py",
   "mimetype": "text/x-python",
   "name": "python",
   "nbconvert_exporter": "python",
   "pygments_lexer": "ipython3",
   "version": "3.6.9"
  }
 },
 "nbformat": 4,
 "nbformat_minor": 4
}
