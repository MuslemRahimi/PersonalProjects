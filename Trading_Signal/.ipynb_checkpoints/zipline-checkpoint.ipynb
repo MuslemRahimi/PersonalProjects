{
 "cells": [
  {
   "cell_type": "code",
   "execution_count": 4,
   "metadata": {},
   "outputs": [],
   "source": [
    "from zipline.api import order_target, record, symbol\n",
    "from zipline.finance import commission, slippage\n",
    "\n",
    "\n",
    "def initialize(context):\n",
    "    context.sym = symbol('AAPL')\n",
    "    context.i = 0\n",
    "\n",
    "    # Explicitly set the commission/slippage to the \"old\" value until we can\n",
    "    # rebuild example data.\n",
    "    # github.com/quantopian/zipline/blob/master/tests/resources/\n",
    "    # rebuild_example_data#L105\n",
    "    context.set_commission(commission.PerShare(cost=.0075, min_trade_cost=1.0))\n",
    "    context.set_slippage(slippage.VolumeShareSlippage())\n",
    "\n",
    "\n",
    "def handle_data(context, data):\n",
    "    # Skip first 300 days to get full windows\n",
    "    context.i += 1\n",
    "    if context.i < 300:\n",
    "        return\n",
    "\n",
    "    # Compute averages\n",
    "    # history() has to be called with the same params\n",
    "    # from above and returns a pandas dataframe.\n",
    "    short_mavg = data.history(context.sym, 'price', 100, '1d').mean()\n",
    "    long_mavg = data.history(context.sym, 'price', 300, '1d').mean()\n",
    "\n",
    "    # Trading logic\n",
    "    if short_mavg > long_mavg:\n",
    "        # order_target orders as many shares as needed to\n",
    "        # achieve the desired number of shares.\n",
    "        order_target(context.sym, 100)\n",
    "    elif short_mavg < long_mavg:\n",
    "        order_target(context.sym, 0)\n",
    "\n",
    "    # Save values for later inspection\n",
    "    record(AAPL=data.current(context.sym, \"price\"),\n",
    "           short_mavg=short_mavg,\n",
    "           long_mavg=long_mavg)\n",
    "\n",
    "\n",
    "# Note: this function can be removed if running\n",
    "# this algorithm on quantopian.com\n",
    "def analyze(context=None, results=None):\n",
    "    import matplotlib.pyplot as plt\n",
    "    import logbook\n",
    "    logbook.StderrHandler().push_application()\n",
    "    log = logbook.Logger('Algorithm')\n",
    "\n",
    "    fig = plt.figure()\n",
    "    ax1 = fig.add_subplot(211)\n",
    "    results.portfolio_value.plot(ax=ax1)\n",
    "    ax1.set_ylabel('Portfolio value (USD)')\n",
    "\n",
    "    ax2 = fig.add_subplot(212)\n",
    "    ax2.set_ylabel('Price (USD)')\n",
    "\n",
    "    # If data has been record()ed, then plot it.\n",
    "    # Otherwise, log the fact that no data has been recorded.\n",
    "    if ('AAPL' in results and 'short_mavg' in results and\n",
    "            'long_mavg' in results):\n",
    "        results['AAPL'].plot(ax=ax2)\n",
    "        results[['short_mavg', 'long_mavg']].plot(ax=ax2)\n",
    "\n",
    "        trans = results.ix[[t != [] for t in results.transactions]]\n",
    "        buys = trans.ix[[t[0]['amount'] > 0 for t in\n",
    "                         trans.transactions]]\n",
    "        sells = trans.ix[\n",
    "            [t[0]['amount'] < 0 for t in trans.transactions]]\n",
    "        ax2.plot(buys.index, results.short_mavg.ix[buys.index],\n",
    "                 '^', markersize=10, color='m')\n",
    "        ax2.plot(sells.index, results.short_mavg.ix[sells.index],\n",
    "                 'v', markersize=10, color='k')\n",
    "        plt.legend(loc=0)\n",
    "    else:\n",
    "        msg = 'AAPL, short_mavg & long_mavg data not captured using record().'\n",
    "        ax2.annotate(msg, xy=(0.1, 0.5))\n",
    "        log.info(msg)\n",
    "\n",
    "    plt.show()\n",
    "\n",
    "\n",
    "def _test_args():\n",
    "    \"\"\"Extra arguments to use when zipline's automated tests run this example.\n",
    "    \"\"\"\n",
    "    import pandas as pd\n",
    "\n",
    "    return {\n",
    "        'start': pd.Timestamp('2011', tz='utc'),\n",
    "        'end': pd.Timestamp('2013', tz='utc'),\n",
    "    }\n"
   ]
  },
  {
   "cell_type": "code",
   "execution_count": 20,
   "metadata": {},
   "outputs": [
    {
     "name": "stdout",
     "output_type": "stream",
     "text": [
      "[2021-03-19 20:53:27.816345] INFO: zipline.data.bundles.core: Ingesting quandl.\n",
      "[2021-03-19 20:53:27.816497] INFO: zipline.data.bundles.quandl: Downloading WIKI metadata.\n",
      "\u001b[?25lDownloading WIKI Prices table from Quandl  [#####################---------------]   58%  00:00:49^C\n",
      "\u001b[?25h\n",
      "\n",
      "Aborted!\n"
     ]
    }
   ],
   "source": [
    "! QUANDL_API_KEY=drteJxzUxbyzsTay-87v  zipline ingest -b quandl\n",
    "\n"
   ]
  },
  {
   "cell_type": "code",
   "execution_count": null,
   "metadata": {},
   "outputs": [
    {
     "name": "stdout",
     "output_type": "stream",
     "text": [
      "[2021-03-19 20:57:46.710223] INFO: zipline.data.bundles.core: Ingesting quantopian-quandl.\n",
      "\u001b[?25lDownloading Bundle: quantopian-quandl  [########----------------------------]   24%  00:00:30"
     ]
    }
   ],
   "source": [
    "!zipline ingest\n",
    "!zipline run -f test.py --start 2014-1-1 --end 2018-1-1 -o dma.pickle --no-benchmark"
   ]
  },
  {
   "cell_type": "code",
   "execution_count": null,
   "metadata": {},
   "outputs": [],
   "source": []
  }
 ],
 "metadata": {
  "kernelspec": {
   "display_name": "Python 3",
   "language": "python",
   "name": "python3"
  },
  "language_info": {
   "codemirror_mode": {
    "name": "ipython",
    "version": 3
   },
   "file_extension": ".py",
   "mimetype": "text/x-python",
   "name": "python",
   "nbconvert_exporter": "python",
   "pygments_lexer": "ipython3",
   "version": "3.6.9"
  }
 },
 "nbformat": 4,
 "nbformat_minor": 4
}
